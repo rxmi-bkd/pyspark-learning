{
 "cells": [
  {
   "cell_type": "code",
   "execution_count": 1,
   "id": "initial_id",
   "metadata": {
    "ExecuteTime": {
     "end_time": "2024-05-14T20:53:26.344170Z",
     "start_time": "2024-05-14T20:53:25.571587Z"
    }
   },
   "outputs": [
    {
     "name": "stdout",
     "output_type": "stream",
     "text": [
      "+-------------+----------+-------+---+---+----+\n",
      "|ParticipantID|Assessment| GeoTag|  1|  2|   3|\n",
      "+-------------+----------+-------+---+---+----+\n",
      "|       abcde1|         0|(x1,y1)|Yes| No|   3|\n",
      "|       abcde2|         0|(x2,y2)| No|Yes|NULL|\n",
      "+-------------+----------+-------+---+---+----+\n",
      "\n"
     ]
    }
   ],
   "source": [
    "import pyspark.sql.functions as F\n",
    "\n",
    "from pyspark.sql import SparkSession\n",
    "\n",
    "spark = SparkSession.builder.getOrCreate()\n",
    "\n",
    "data = [\n",
    "    [1, 'Question1Text', 'Yes', 'abcde1', 0, '(x1,y1)'],\n",
    "    [2, 'Question2Text', 'No', 'abcde1', 0, '(x1,y1)'],\n",
    "    [3, 'Question3Text', '3', 'abcde1', 0, '(x1,y1)'],\n",
    "    [1, 'Question1Text', 'No', 'abcde2', 0, '(x2,y2)'],\n",
    "    [2, 'Question2Text', 'Yes', 'abcde2', 0, '(x2,y2)']\n",
    "]\n",
    "\n",
    "df = spark.createDataFrame(data, ['Qid', 'QuestionText', 'AnswerText', 'ParticipantID', 'Assessment', 'GeoTag'])\n",
    "df = df.groupBy('ParticipantID', 'Assessment', 'GeoTag').pivot('Qid').agg(F.first('AnswerText'))\n",
    "df.show()"
   ]
  },
  {
   "cell_type": "code",
   "execution_count": null,
   "id": "304b96ee4a95512b",
   "metadata": {
    "collapsed": false,
    "jupyter": {
     "outputs_hidden": false
    }
   },
   "outputs": [],
   "source": []
  }
 ],
 "metadata": {
  "kernelspec": {
   "display_name": "Python 3 (ipykernel)",
   "language": "python",
   "name": "python3"
  },
  "language_info": {
   "codemirror_mode": {
    "name": "ipython",
    "version": 3
   },
   "file_extension": ".py",
   "mimetype": "text/x-python",
   "name": "python",
   "nbconvert_exporter": "python",
   "pygments_lexer": "ipython3",
   "version": "3.11.6"
  }
 },
 "nbformat": 4,
 "nbformat_minor": 5
}
