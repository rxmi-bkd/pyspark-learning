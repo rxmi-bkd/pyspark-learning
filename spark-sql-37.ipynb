{
 "cells": [
  {
   "cell_type": "code",
   "execution_count": 1,
   "id": "initial_id",
   "metadata": {
    "ExecuteTime": {
     "end_time": "2024-05-19T14:31:47.797558Z",
     "start_time": "2024-05-19T14:31:42.608263Z"
    },
    "collapsed": true,
    "jupyter": {
     "outputs_hidden": true
    }
   },
   "outputs": [
    {
     "name": "stdout",
     "output_type": "stream",
     "text": [
      "+--------+------+----------+\n",
      "|employee|salary|percentage|\n",
      "+--------+------+----------+\n",
      "|   David|    35|       Low|\n",
      "|    John|    42|       Low|\n",
      "|    Alan|    45|       Low|\n",
      "|    Paul|    48|   Average|\n",
      "|    Tony|    50|   Average|\n",
      "|     Lee|    60|   Average|\n",
      "|   Micky|    62|   Average|\n",
      "|   Nigel|    64|      High|\n",
      "|   Steve|    65|      High|\n",
      "|  George|    80|      High|\n",
      "+--------+------+----------+\n"
     ]
    }
   ],
   "source": [
    "import pyspark.sql.functions as F\n",
    "\n",
    "from pyspark.sql import SparkSession\n",
    "from pyspark.sql.window import Window\n",
    "\n",
    "spark = SparkSession.builder.getOrCreate()\n",
    "\n",
    "data = [\n",
    "    [\"Tony\", 50],\n",
    "    [\"Alan\", 45],\n",
    "    [\"Lee\", 60],\n",
    "    [\"David\", 35],\n",
    "    [\"Steve\", 65],\n",
    "    [\"Paul\", 48],\n",
    "    [\"Micky\", 62],\n",
    "    [\"George\", 80],\n",
    "    [\"Nigel\", 64],\n",
    "    [\"John\", 42]\n",
    "]\n",
    "\n",
    "windowSpec = Window.partitionBy().orderBy('salary')\n",
    "\n",
    "df = spark.createDataFrame(data, ['employee', 'salary'])\n",
    "df = df.withColumn('percentage', F.percent_rank().over(windowSpec))\n",
    "df = df.withColumn('percentage',\n",
    "                   F.when(F.col('percentage') > 0.7, 'High').when(F.col('percentage') < 0.3, 'Low').otherwise('Average'))\n",
    "df.show()"
   ]
  },
  {
   "cell_type": "code",
   "execution_count": null,
   "id": "7769b1976ca3e5b9",
   "metadata": {
    "collapsed": false,
    "jupyter": {
     "outputs_hidden": false
    }
   },
   "outputs": [],
   "source": []
  }
 ],
 "metadata": {
  "kernelspec": {
   "display_name": "Python 3 (ipykernel)",
   "language": "python",
   "name": "python3"
  },
  "language_info": {
   "codemirror_mode": {
    "name": "ipython",
    "version": 3
   },
   "file_extension": ".py",
   "mimetype": "text/x-python",
   "name": "python",
   "nbconvert_exporter": "python",
   "pygments_lexer": "ipython3",
   "version": "3.11.6"
  }
 },
 "nbformat": 4,
 "nbformat_minor": 5
}
