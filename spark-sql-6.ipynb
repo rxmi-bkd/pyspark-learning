{
 "cells": [
  {
   "cell_type": "code",
   "execution_count": 1,
   "id": "initial_id",
   "metadata": {
    "ExecuteTime": {
     "end_time": "2024-05-14T18:32:15.507453Z",
     "start_time": "2024-05-14T18:32:08.510618Z"
    }
   },
   "outputs": [
    {
     "name": "stdout",
     "output_type": "stream",
     "text": [
      "+---+-----------+----------+-----------+\n",
      "| id|first(name)|first(age)|first(city)|\n",
      "+---+-----------+----------+-----------+\n",
      "|100|       John|        35|    Georgia|\n",
      "|101|       Mike|        25|   New York|\n",
      "|103|       Mary|        22|      Texas|\n",
      "|104|      Smith|        25|       NULL|\n",
      "|105|       Jake|      NULL|    Florida|\n",
      "+---+-----------+----------+-----------+\n",
      "\n"
     ]
    }
   ],
   "source": [
    "import pyspark.sql.functions as F\n",
    "\n",
    "from pyspark.sql import SparkSession\n",
    "\n",
    "data = [\n",
    "    [100, 'John', 35, None],\n",
    "    [100, 'John', None, 'Georgia'],\n",
    "    [101, 'Mike', 25, None],\n",
    "    [101, 'Mike', None, 'New York'],\n",
    "    [103, 'Mary', 22, None],\n",
    "    [103, 'Mary', None, 'Texas'],\n",
    "    [104, 'Smith', 25, None],\n",
    "    [105, 'Jake', None, 'Florida']\n",
    "]\n",
    "\n",
    "spark = SparkSession.builder.getOrCreate()\n",
    "\n",
    "df = spark.createDataFrame(data, ['id', 'name', 'age', 'city'])\n",
    "df = (df.groupBy('id')\n",
    "      .agg(F.first('name', True),\n",
    "           F.first('age', True),\n",
    "           F.first('city', True)))\n",
    "df.show()"
   ]
  },
  {
   "cell_type": "code",
   "execution_count": null,
   "id": "c27852a028bbc5b9",
   "metadata": {
    "collapsed": false,
    "jupyter": {
     "outputs_hidden": false
    }
   },
   "outputs": [],
   "source": []
  }
 ],
 "metadata": {
  "kernelspec": {
   "display_name": "Python 3 (ipykernel)",
   "language": "python",
   "name": "python3"
  },
  "language_info": {
   "codemirror_mode": {
    "name": "ipython",
    "version": 3
   },
   "file_extension": ".py",
   "mimetype": "text/x-python",
   "name": "python",
   "nbconvert_exporter": "python",
   "pygments_lexer": "ipython3",
   "version": "3.11.6"
  }
 },
 "nbformat": 4,
 "nbformat_minor": 5
}
