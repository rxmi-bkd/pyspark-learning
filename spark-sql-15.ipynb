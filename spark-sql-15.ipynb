{
 "cells": [
  {
   "cell_type": "code",
   "execution_count": 1,
   "id": "initial_id",
   "metadata": {
    "ExecuteTime": {
     "end_time": "2024-05-14T19:39:08.990733Z",
     "start_time": "2024-05-14T19:39:08.644971Z"
    }
   },
   "outputs": [
    {
     "name": "stdout",
     "output_type": "stream",
     "text": [
      "+-------------+----------+----------+\n",
      "|      country|population|      city|\n",
      "+-------------+----------+----------+\n",
      "|       Poland|   1764615|    Warsaw|\n",
      "|       France|   2206488|     Paris|\n",
      "|United States|   2716000|Chicago IL|\n",
      "|    Lithuania|    580020|   Vilnius|\n",
      "|       Sweden|    972647| Stockholm|\n",
      "+-------------+----------+----------+\n",
      "\n"
     ]
    }
   ],
   "source": [
    "import pyspark.sql.functions as F\n",
    "\n",
    "from pyspark.sql import SparkSession\n",
    "\n",
    "data = [\n",
    "    ['Warsaw', 'Poland', 1764615],\n",
    "    ['Cracow', 'Poland', 769498],\n",
    "    ['Paris', 'France', 2206488],\n",
    "    ['Villeneuve-Loubet', 'France', 15020],\n",
    "    ['Pittsburgh PA', 'United States', 302407],\n",
    "    ['Chicago IL', 'United States', 2716000],\n",
    "    ['Milwaukee WI', 'United States', 595351],\n",
    "    ['Vilnius', 'Lithuania', 580020],\n",
    "    ['Stockholm', 'Sweden', 972647],\n",
    "    ['Goteborg', 'Sweden', 580020]\n",
    "]\n",
    "\n",
    "spark = SparkSession.builder.getOrCreate()\n",
    "\n",
    "df = spark.createDataFrame(data, ['city', 'country', 'population'])\n",
    "mp = df.groupBy('country').agg(F.max('population').alias('population'))\n",
    "df = df.join(mp, ['country', 'population'], 'inner')\n",
    "df.show()"
   ]
  },
  {
   "cell_type": "code",
   "execution_count": null,
   "id": "8b9bd57dc5033719",
   "metadata": {
    "collapsed": false,
    "jupyter": {
     "outputs_hidden": false
    }
   },
   "outputs": [],
   "source": []
  }
 ],
 "metadata": {
  "kernelspec": {
   "display_name": "Python 3 (ipykernel)",
   "language": "python",
   "name": "python3"
  },
  "language_info": {
   "codemirror_mode": {
    "name": "ipython",
    "version": 3
   },
   "file_extension": ".py",
   "mimetype": "text/x-python",
   "name": "python",
   "nbconvert_exporter": "python",
   "pygments_lexer": "ipython3",
   "version": "3.11.6"
  }
 },
 "nbformat": 4,
 "nbformat_minor": 5
}
