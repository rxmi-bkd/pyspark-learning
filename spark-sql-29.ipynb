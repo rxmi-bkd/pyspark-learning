{
 "cells": [
  {
   "cell_type": "code",
   "execution_count": 1,
   "id": "initial_id",
   "metadata": {
    "ExecuteTime": {
     "end_time": "2024-05-14T20:50:49.203030Z",
     "start_time": "2024-05-14T20:50:48.086504Z"
    }
   },
   "outputs": [
    {
     "name": "stdout",
     "output_type": "stream",
     "text": [
      "+---+-------+-------+-------+-------+-------+-------+-------+-------+\n",
      "| id|price_1|price_2|price_3|price_4|units_1|units_2|units_3|units_4|\n",
      "+---+-------+-------+-------+-------+-------+-------+-------+-------+\n",
      "|100|     23|     45|     67|     78|     10|     11|     12|     13|\n",
      "|101|     23|     45|     67|     78|     10|     13|     14|     15|\n",
      "|102|     23|     45|     67|     78|     10|     11|     16|     18|\n",
      "+---+-------+-------+-------+-------+-------+-------+-------+-------+\n",
      "\n"
     ]
    }
   ],
   "source": [
    "import pyspark.sql.functions as F\n",
    "\n",
    "from pyspark.sql import SparkSession\n",
    "\n",
    "spark = SparkSession.builder.getOrCreate()\n",
    "\n",
    "data = [\n",
    "    [100, 1, 23, 10],\n",
    "    [100, 2, 45, 11],\n",
    "    [100, 3, 67, 12],\n",
    "    [100, 4, 78, 13],\n",
    "    [101, 1, 23, 10],\n",
    "    [101, 2, 45, 13],\n",
    "    [101, 3, 67, 14],\n",
    "    [101, 4, 78, 15],\n",
    "    [102, 1, 23, 10],\n",
    "    [102, 2, 45, 11],\n",
    "    [102, 3, 67, 16],\n",
    "    [102, 4, 78, 18]\n",
    "]\n",
    "\n",
    "df = spark.createDataFrame(data, ['id', 'day', 'price', 'units'])\n",
    "\n",
    "price_pivot = df.groupBy('id').pivot('day').agg(F.sum('price'))\n",
    "price_pivot = price_pivot.select('id',\n",
    "                                 *[F.col(col).alias(f'price_{col}') for col in price_pivot.columns if col != 'id'])\n",
    "\n",
    "units_pivot = df.groupBy('id').pivot('day').agg(F.sum('units'))\n",
    "units_pivot = units_pivot.select('id',\n",
    "                                 *[F.col(col).alias(f'units_{col}') for col in units_pivot.columns if col != 'id'])\n",
    "\n",
    "joined = price_pivot.join(units_pivot, 'id')\n",
    "joined.show()"
   ]
  },
  {
   "cell_type": "code",
   "execution_count": null,
   "id": "195bd14161c50c91",
   "metadata": {
    "collapsed": false,
    "jupyter": {
     "outputs_hidden": false
    }
   },
   "outputs": [],
   "source": []
  }
 ],
 "metadata": {
  "kernelspec": {
   "display_name": "Python 3 (ipykernel)",
   "language": "python",
   "name": "python3"
  },
  "language_info": {
   "codemirror_mode": {
    "name": "ipython",
    "version": 3
   },
   "file_extension": ".py",
   "mimetype": "text/x-python",
   "name": "python",
   "nbconvert_exporter": "python",
   "pygments_lexer": "ipython3",
   "version": "3.11.6"
  }
 },
 "nbformat": 4,
 "nbformat_minor": 5
}
