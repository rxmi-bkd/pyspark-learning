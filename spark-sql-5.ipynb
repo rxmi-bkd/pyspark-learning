{
 "cells": [
  {
   "cell_type": "code",
   "execution_count": 1,
   "id": "initial_id",
   "metadata": {
    "ExecuteTime": {
     "end_time": "2024-05-14T18:32:08.358506Z",
     "start_time": "2024-05-14T18:32:02.655874Z"
    }
   },
   "outputs": [
    {
     "name": "stdout",
     "output_type": "stream",
     "text": [
      "+------+-----+---------+---------+\n",
      "|  user|Logan|Zoolander|John Wick|\n",
      "+------+-----+---------+---------+\n",
      "|Manuel|  1.5|      3.0|      2.5|\n",
      "|  John|  2.0|      3.5|      3.0|\n",
      "+------+-----+---------+---------+\n",
      "\n"
     ]
    }
   ],
   "source": [
    "from pyspark.sql import SparkSession\n",
    "\n",
    "data = [\n",
    "    ['Manuel', [['Logan', 1.5], ['Zoolander', 3.0], ['John Wick', 2.5]]],\n",
    "    ['John', [['Logan', 2.0], ['Zoolander', 3.5], ['John Wick', 3.0]]],\n",
    "]\n",
    "\n",
    "spark = SparkSession.builder.getOrCreate()\n",
    "\n",
    "rdd = spark.sparkContext.parallelize(data)\n",
    "rdd = rdd.flatMap(lambda row: [[row[0]] + [i[1] for i in row[1]]])\n",
    "\n",
    "df = rdd.toDF(['user', 'Logan', 'Zoolander', 'John Wick'])\n",
    "df.show()"
   ]
  },
  {
   "cell_type": "code",
   "execution_count": null,
   "id": "e00795238aa3cb68",
   "metadata": {
    "collapsed": false,
    "jupyter": {
     "outputs_hidden": false
    }
   },
   "outputs": [],
   "source": []
  }
 ],
 "metadata": {
  "kernelspec": {
   "display_name": "Python 3 (ipykernel)",
   "language": "python",
   "name": "python3"
  },
  "language_info": {
   "codemirror_mode": {
    "name": "ipython",
    "version": 3
   },
   "file_extension": ".py",
   "mimetype": "text/x-python",
   "name": "python",
   "nbconvert_exporter": "python",
   "pygments_lexer": "ipython3",
   "version": "3.11.6"
  }
 },
 "nbformat": 4,
 "nbformat_minor": 5
}
