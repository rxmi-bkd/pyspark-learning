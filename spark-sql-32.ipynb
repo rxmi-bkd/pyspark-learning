{
 "cells": [
  {
   "cell_type": "code",
   "execution_count": 1,
   "id": "initial_id",
   "metadata": {
    "ExecuteTime": {
     "end_time": "2024-05-19T14:21:41.274049Z",
     "start_time": "2024-05-19T14:21:36.007652Z"
    }
   },
   "outputs": [
    {
     "name": "stdout",
     "output_type": "stream",
     "text": [
      "+---+-------------+--------+--------+----+\n",
      "| id|        title|   genre|quantity|rank|\n",
      "+---+-------------+--------+--------+----+\n",
      "| 10|  Max McBride| romance|      75|   1|\n",
      "|  5|  Earl Walton| romance|      40|   2|\n",
      "|  9|   Owen Boone|  sci-fi|      27|   1|\n",
      "|  3| Jason Dawson|thriller|      90|   1|\n",
      "|  2|Leonard Lewis|thriller|      81|   2|\n",
      "+---+-------------+--------+--------+----+\n",
      "\n"
     ]
    }
   ],
   "source": [
    "import pyspark.sql.functions as F\n",
    "\n",
    "from pyspark.sql import SparkSession\n",
    "from pyspark.sql.window import Window\n",
    "\n",
    "spark = SparkSession.builder.getOrCreate()\n",
    "\n",
    "data = [\n",
    "    [1, 'Hunter Fields', 'romance', 15],\n",
    "    [2, 'Leonard Lewis', 'thriller', 81],\n",
    "    [3, 'Jason Dawson', 'thriller', 90],\n",
    "    [4, 'Andre Grant', 'thriller', 25],\n",
    "    [5, 'Earl Walton', 'romance', 40],\n",
    "    [6, 'Alan Hanson', 'romance', 24],\n",
    "    [7, 'Clyde Matthews', 'thriller', 31],\n",
    "    [8, 'Josephine Leonard', 'thriller', 1],\n",
    "    [9, 'Owen Boone', 'sci-fi', 27],\n",
    "    [10, 'Max McBride', 'romance', 75]\n",
    "]\n",
    "\n",
    "windowSpec = Window.partitionBy('genre').orderBy(F.col('quantity').desc())\n",
    "\n",
    "df = spark.createDataFrame(data, ['id', 'title', 'genre', 'quantity'])\n",
    "df = df.withColumn('rank', F.rank().over(windowSpec)).filter(F.col('rank') <= 2)\n",
    "df.show()"
   ]
  },
  {
   "cell_type": "code",
   "execution_count": null,
   "id": "d1e6fbbbe0de2e77",
   "metadata": {
    "collapsed": false,
    "jupyter": {
     "outputs_hidden": false
    }
   },
   "outputs": [],
   "source": []
  }
 ],
 "metadata": {
  "kernelspec": {
   "display_name": "Python 3 (ipykernel)",
   "language": "python",
   "name": "python3"
  },
  "language_info": {
   "codemirror_mode": {
    "name": "ipython",
    "version": 3
   },
   "file_extension": ".py",
   "mimetype": "text/x-python",
   "name": "python",
   "nbconvert_exporter": "python",
   "pygments_lexer": "ipython3",
   "version": "3.11.6"
  }
 },
 "nbformat": 4,
 "nbformat_minor": 5
}
