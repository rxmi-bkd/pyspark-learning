{
 "cells": [
  {
   "cell_type": "code",
   "execution_count": 1,
   "id": "initial_id",
   "metadata": {
    "ExecuteTime": {
     "end_time": "2024-05-14T18:32:19.792564Z",
     "start_time": "2024-05-14T18:32:13.263854Z"
    }
   },
   "outputs": [
    {
     "name": "stdout",
     "output_type": "stream",
     "text": [
      "+-----------+--------------+---------+-----+-----+\n",
      "|business_id|  full_address|      day| open|close|\n",
      "+-----------+--------------+---------+-----+-----+\n",
      "|        abc|random_address| Thursday|11:00|02:00|\n",
      "|        abc|random_address|   Monday|11:00|02:00|\n",
      "|        abc|random_address|   Friday|11:00|02:00|\n",
      "|        abc|random_address|   Sunday|11:00|00:00|\n",
      "|        abc|random_address|Wednesday|11:00|02:00|\n",
      "|        abc|random_address|  Tuesday|11:00|02:00|\n",
      "|        abc|random_address| Saturday|11:00|02:00|\n",
      "+-----------+--------------+---------+-----+-----+\n",
      "\n"
     ]
    }
   ],
   "source": [
    "import pyspark.sql.functions as F\n",
    "\n",
    "from pyspark.sql import SparkSession\n",
    "\n",
    "data = {\n",
    "    'business_id': 'abc',\n",
    "    'full_address': 'random_address',\n",
    "    'hours': {\n",
    "        'Monday': {\n",
    "            'close': '02:00',\n",
    "            'open': '11:00'\n",
    "        },\n",
    "        'Tuesday': {\n",
    "            'close': '02:00',\n",
    "            'open': '11:00'\n",
    "        },\n",
    "        'Friday': {\n",
    "            'close': '02:00',\n",
    "            'open': '11:00'\n",
    "        },\n",
    "        'Wednesday': {\n",
    "            'close': '02:00',\n",
    "            'open': '11:00'\n",
    "        },\n",
    "        'Thursday': {\n",
    "            'close': '02:00',\n",
    "            'open': '11:00'\n",
    "        },\n",
    "        'Sunday': {\n",
    "            'close': '00:00',\n",
    "            'open': '11:00'\n",
    "        },\n",
    "        'Saturday': {\n",
    "            'close': '02:00',\n",
    "            'open': '11:00'\n",
    "        }\n",
    "    }\n",
    "}\n",
    "\n",
    "spark = SparkSession.builder.getOrCreate()\n",
    "\n",
    "df = spark.createDataFrame([data])\n",
    "df = df.select('business_id', 'full_address', F.explode('hours').alias('day', 'hours'))\n",
    "df = df.select('business_id', 'full_address', 'day', 'hours.open', 'hours.close')\n",
    "df.show()"
   ]
  },
  {
   "cell_type": "code",
   "execution_count": null,
   "id": "fd4c03119f50b0f6",
   "metadata": {
    "collapsed": false,
    "jupyter": {
     "outputs_hidden": false
    }
   },
   "outputs": [],
   "source": []
  }
 ],
 "metadata": {
  "kernelspec": {
   "display_name": "Python 3 (ipykernel)",
   "language": "python",
   "name": "python3"
  },
  "language_info": {
   "codemirror_mode": {
    "name": "ipython",
    "version": 3
   },
   "file_extension": ".py",
   "mimetype": "text/x-python",
   "name": "python",
   "nbconvert_exporter": "python",
   "pygments_lexer": "ipython3",
   "version": "3.11.6"
  }
 },
 "nbformat": 4,
 "nbformat_minor": 5
}
