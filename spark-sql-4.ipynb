{
 "cells": [
  {
   "cell_type": "code",
   "execution_count": 1,
   "id": "initial_id",
   "metadata": {
    "ExecuteTime": {
     "end_time": "2024-05-14T20:44:00.350611Z",
     "start_time": "2024-05-14T20:43:54.372628Z"
    },
    "collapsed": true,
    "jupyter": {
     "outputs_hidden": true
    }
   },
   "outputs": [
    {
     "name": "stdout",
     "output_type": "stream",
     "text": [
      "+---+------------------------------------------+----------------+\n",
      "|key|ids                                       |only_first_three|\n",
      "+---+------------------------------------------+----------------+\n",
      "|0  |[0, 15, 30, 45, 5, 20, 35, 50, 10, 25, 40]|[0, 15, 30]     |\n",
      "|1  |[1, 16, 31, 46, 6, 21, 36, 11, 26, 41]    |[1, 16, 31]     |\n",
      "|3  |[33, 48, 13, 38, 3, 18, 28, 43, 8, 23]    |[33, 48, 13]    |\n",
      "|2  |[12, 27, 37, 2, 17, 32, 42, 7, 22, 47]    |[12, 27, 37]    |\n",
      "|4  |[9, 19, 34, 49, 24, 39, 4, 14, 29, 44]    |[9, 19, 34]     |\n",
      "+---+------------------------------------------+----------------+\n"
     ]
    }
   ],
   "source": [
    "import pyspark.sql.functions as F\n",
    "\n",
    "from pyspark.sql import SparkSession\n",
    "\n",
    "data = [\n",
    "    [0, 0],\n",
    "    [1, 1],\n",
    "    [2, 2],\n",
    "    [3, 3],\n",
    "    [4, 4],\n",
    "    [5, 0],\n",
    "    [6, 1],\n",
    "    [7, 2],\n",
    "    [8, 3],\n",
    "    [9, 4],\n",
    "    [10, 0],\n",
    "    [11, 1],\n",
    "    [12, 2],\n",
    "    [13, 3],\n",
    "    [14, 4],\n",
    "    [15, 0],\n",
    "    [16, 1],\n",
    "    [17, 2],\n",
    "    [18, 3],\n",
    "    [19, 4],\n",
    "    [20, 0],\n",
    "    [21, 1],\n",
    "    [22, 2],\n",
    "    [23, 3],\n",
    "    [24, 4],\n",
    "    [25, 0],\n",
    "    [26, 1],\n",
    "    [27, 2],\n",
    "    [28, 3],\n",
    "    [29, 4],\n",
    "    [30, 0],\n",
    "    [31, 1],\n",
    "    [32, 2],\n",
    "    [33, 3],\n",
    "    [34, 4],\n",
    "    [35, 0],\n",
    "    [36, 1],\n",
    "    [37, 2],\n",
    "    [38, 3],\n",
    "    [39, 4],\n",
    "    [40, 0],\n",
    "    [41, 1],\n",
    "    [42, 2],\n",
    "    [43, 3],\n",
    "    [44, 4],\n",
    "    [45, 0],\n",
    "    [46, 1],\n",
    "    [47, 2],\n",
    "    [48, 3],\n",
    "    [49, 4],\n",
    "    [50, 0]\n",
    "]\n",
    "\n",
    "spark = SparkSession.builder.getOrCreate()\n",
    "\n",
    "df = spark.createDataFrame(data, ['id', 'key'])\n",
    "df = df.groupBy('key').agg(F.collect_set('id').alias('ids'))\n",
    "df = df.withColumn('only_first_three', F.slice('ids', 1, 3))\n",
    "df.show(truncate=False)"
   ]
  },
  {
   "cell_type": "code",
   "execution_count": null,
   "id": "510055769a56c9a0",
   "metadata": {
    "collapsed": false,
    "jupyter": {
     "outputs_hidden": false
    }
   },
   "outputs": [],
   "source": []
  }
 ],
 "metadata": {
  "kernelspec": {
   "display_name": "Python 3 (ipykernel)",
   "language": "python",
   "name": "python3"
  },
  "language_info": {
   "codemirror_mode": {
    "name": "ipython",
    "version": 3
   },
   "file_extension": ".py",
   "mimetype": "text/x-python",
   "name": "python",
   "nbconvert_exporter": "python",
   "pygments_lexer": "ipython3",
   "version": "3.11.6"
  }
 },
 "nbformat": 4,
 "nbformat_minor": 5
}
