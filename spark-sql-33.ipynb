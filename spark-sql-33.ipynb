{
 "cells": [
  {
   "cell_type": "code",
   "execution_count": 1,
   "id": "initial_id",
   "metadata": {
    "ExecuteTime": {
     "end_time": "2024-05-19T14:23:18.926136Z",
     "start_time": "2024-05-19T14:23:18.566436Z"
    }
   },
   "outputs": [
    {
     "name": "stdout",
     "output_type": "stream",
     "text": [
      "+---+-----------------+----------+------+----+\n",
      "| id|             name|department|salary|diff|\n",
      "+---+-----------------+----------+------+----+\n",
      "|  9|       Owen Boone|        HR|    27|   0|\n",
      "|  1|    Hunter Fields|        IT|    15|  60|\n",
      "|  5|      Earl Walton|        IT|    40|  35|\n",
      "|  6|      Alan Hanson|        IT|    24|  51|\n",
      "| 10|      Max McBride|        IT|    75|   0|\n",
      "|  2|    Leonard Lewis|   Support|    81|   9|\n",
      "|  3|     Jason Dawson|   Support|    90|   0|\n",
      "|  4|      Andre Grant|   Support|    25|  65|\n",
      "|  7|   Clyde Matthews|   Support|    31|  59|\n",
      "|  8|Josephine Leonard|   Support|     1|  89|\n",
      "+---+-----------------+----------+------+----+\n",
      "\n"
     ]
    }
   ],
   "source": [
    "import pyspark.sql.functions as F\n",
    "\n",
    "from pyspark.sql import SparkSession\n",
    "from pyspark.sql.window import Window\n",
    "\n",
    "spark = SparkSession.builder.getOrCreate()\n",
    "\n",
    "data = [\n",
    "    [1, \"Hunter Fields\", \"IT\", 15],\n",
    "    [2, \"Leonard Lewis\", \"Support\", 81],\n",
    "    [3, \"Jason Dawson\", \"Support\", 90],\n",
    "    [4, \"Andre Grant\", \"Support\", 25],\n",
    "    [5, \"Earl Walton\", \"IT\", 40],\n",
    "    [6, \"Alan Hanson\", \"IT\", 24],\n",
    "    [7, \"Clyde Matthews\", \"Support\", 31],\n",
    "    [8, \"Josephine Leonard\", \"Support\", 1],\n",
    "    [9, \"Owen Boone\", \"HR\", 27],\n",
    "    [10, \"Max McBride\", \"IT\", 75]\n",
    "]\n",
    "\n",
    "windowSpec = Window.partitionBy('department')\n",
    "\n",
    "df = spark.createDataFrame(data, ['id', 'name', 'department', 'salary'])\n",
    "df = df.withColumn('diff', F.max('salary').over(windowSpec) - F.col('salary'))\n",
    "df.show()"
   ]
  },
  {
   "cell_type": "code",
   "execution_count": null,
   "id": "99008acaa99f6a5b",
   "metadata": {
    "collapsed": false,
    "jupyter": {
     "outputs_hidden": false
    }
   },
   "outputs": [],
   "source": []
  }
 ],
 "metadata": {
  "kernelspec": {
   "display_name": "Python 3 (ipykernel)",
   "language": "python",
   "name": "python3"
  },
  "language_info": {
   "codemirror_mode": {
    "name": "ipython",
    "version": 3
   },
   "file_extension": ".py",
   "mimetype": "text/x-python",
   "name": "python",
   "nbconvert_exporter": "python",
   "pygments_lexer": "ipython3",
   "version": "3.11.6"
  }
 },
 "nbformat": 4,
 "nbformat_minor": 5
}
