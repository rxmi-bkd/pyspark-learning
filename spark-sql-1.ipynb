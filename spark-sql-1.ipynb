{
 "cells": [
  {
   "cell_type": "code",
   "execution_count": 2,
   "id": "initial_id",
   "metadata": {
    "ExecuteTime": {
     "end_time": "2024-05-19T14:41:19.409562Z",
     "start_time": "2024-05-19T14:41:18.520869Z"
    }
   },
   "outputs": [
    {
     "name": "stdout",
     "output_type": "stream",
     "text": [
      "+-------------------+---+----------------------+\n",
      "|_1                 |_2 |_3                    |\n",
      "+-------------------+---+----------------------+\n",
      "|50000.0#0#0#       |#  |[50000.0, 0, 0, ]     |\n",
      "|0@1000.0@          |@  |[0, 1000.0, ]         |\n",
      "|1$                 |$  |[1, ]                 |\n",
      "|1000.00^Test_string|^  |[1000.00, Test_string]|\n",
      "+-------------------+---+----------------------+\n",
      "\n"
     ]
    }
   ],
   "source": [
    "import pyspark.sql.functions as F\n",
    "\n",
    "from pyspark.sql import SparkSession\n",
    "\n",
    "spark = SparkSession.builder.getOrCreate()\n",
    "\n",
    "data = [\n",
    "    ['50000.0#0#0#', '#'],\n",
    "    ['0@1000.0@', '@'],\n",
    "    ['1$', '$'],\n",
    "    ['1000.00^Test_string', '^']\n",
    "]\n",
    "\n",
    "df = spark.createDataFrame(data, ['VALUES', 'Delimiter'])\n",
    "df = df.rdd.flatMap(lambda row: [[row.VALUES, row.Delimiter, row.VALUES.split(row.Delimiter)]]).toDF()\n",
    "df.show(truncate=False)"
   ]
  },
  {
   "cell_type": "code",
   "execution_count": null,
   "id": "fe3c74df-2d50-4834-8aa3-181be3777930",
   "metadata": {},
   "outputs": [],
   "source": []
  }
 ],
 "metadata": {
  "kernelspec": {
   "display_name": "Python 3 (ipykernel)",
   "language": "python",
   "name": "python3"
  },
  "language_info": {
   "codemirror_mode": {
    "name": "ipython",
    "version": 3
   },
   "file_extension": ".py",
   "mimetype": "text/x-python",
   "name": "python",
   "nbconvert_exporter": "python",
   "pygments_lexer": "ipython3",
   "version": "3.11.6"
  }
 },
 "nbformat": 4,
 "nbformat_minor": 5
}
