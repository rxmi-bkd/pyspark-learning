{
 "cells": [
  {
   "cell_type": "code",
   "execution_count": 89,
   "metadata": {},
   "outputs": [],
   "source": [
    "from pyspark.sql import SparkSession\n",
    "\n",
    "import pyspark.sql.functions as F\n",
    "\n",
    "data = [\n",
    "    [\"k1\",\"v4\",\"v7\",\"d1\"],\n",
    "    [\"k1\",\"v5\",\"v8\",\"d2\"],\n",
    "    [\"k1\",\"v6\",\"v9\",\"d3\"],\n",
    "    [\"k2\",\"v12\",\"v22\",\"d1\"],\n",
    "    [\"k2\",\"v32\",\"v42\",\"d2\"],\n",
    "    [\"k2\",\"v11\",\"v21\",\"d3\"]\n",
    "]\n",
    "\n",
    "spark = SparkSession.builder.getOrCreate()"
   ]
  },
  {
   "cell_type": "code",
   "execution_count": 93,
   "metadata": {},
   "outputs": [
    {
     "name": "stdout",
     "output_type": "stream",
     "text": [
      "+---+-----+-----+-----+-----+-----+-----+\n",
      "|key|d1_v1|d1_v2|d2_v1|d2_v2|d3_v1|d3_v2|\n",
      "+---+-----+-----+-----+-----+-----+-----+\n",
      "| k2|  v12|  v22|  v32|  v42|  v11|  v21|\n",
      "| k1|   v4|   v7|   v5|   v8|   v6|   v9|\n",
      "+---+-----+-----+-----+-----+-----+-----+\n",
      "\n"
     ]
    }
   ],
   "source": [
    "df = spark.createDataFrame(data, [\"key\", \"val1\", \"val2\", \"date\"])\n",
    "df = df.groupBy(\"key\").pivot(\"date\").agg(F.first(\"val1\").alias(\"v1\"), F.first(\"val2\").alias(\"v2\"))\n",
    "df.show()"
   ]
  }
 ],
 "metadata": {
  "kernelspec": {
   "display_name": "Python 3",
   "language": "python",
   "name": "python3"
  },
  "language_info": {
   "codemirror_mode": {
    "name": "ipython",
    "version": 3
   },
   "file_extension": ".py",
   "mimetype": "text/x-python",
   "name": "python",
   "nbconvert_exporter": "python",
   "pygments_lexer": "ipython3",
   "version": "3.8.4"
  }
 },
 "nbformat": 4,
 "nbformat_minor": 4
}
