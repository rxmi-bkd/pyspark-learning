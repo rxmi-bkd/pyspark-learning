{
 "cells": [
  {
   "cell_type": "code",
   "execution_count": 2,
   "id": "5457e586d90ead18",
   "metadata": {
    "ExecuteTime": {
     "end_time": "2024-05-14T20:06:19.850278Z",
     "start_time": "2024-05-14T20:06:19.411074Z"
    },
    "collapsed": false,
    "jupyter": {
     "outputs_hidden": false
    }
   },
   "outputs": [
    {
     "name": "stdout",
     "output_type": "stream",
     "text": [
      "+--------------+----------+----------+\n",
      "|number_of_days|      date|    future|\n",
      "+--------------+----------+----------+\n",
      "|             0|2016-01-01|2016-01-01|\n",
      "|             1|2016-01-02|2016-01-03|\n",
      "|             2|2016-01-22|2016-01-24|\n",
      "|             3|2016-01-25|2016-01-28|\n",
      "|             4|2016-01-21|2016-01-25|\n",
      "|             5|2016-01-01|2016-01-06|\n",
      "|             6|2016-01-21|2016-01-27|\n",
      "+--------------+----------+----------+\n",
      "\n"
     ]
    }
   ],
   "source": [
    "import pyspark.sql.functions as F\n",
    "\n",
    "from pyspark.sql import SparkSession\n",
    "\n",
    "spark = SparkSession.builder.getOrCreate()\n",
    "\n",
    "data = [\n",
    "    [0, '2016-01-01'],\n",
    "    [1, '2016-02-02'],\n",
    "    [2, '2016-03-22'],\n",
    "    [3, '2016-04-25'],\n",
    "    [4, '2016-05-21'],\n",
    "    [5, '2016-06-01'],\n",
    "    [6, '2016-03-21']\n",
    "]\n",
    "\n",
    "df = spark.createDataFrame(data, ['number_of_days', 'date'])\n",
    "\n",
    "df = df.withColumn('number_of_days', F.col('number_of_days').cast('int'))\n",
    "df = df.withColumn('date', F.to_date('date', 'yyyy-mm-dd').alias('date'))\n",
    "df = df.withColumn('future', F.date_add('date', 'number_of_days'))\n",
    "df.show()"
   ]
  },
  {
   "cell_type": "code",
   "execution_count": null,
   "id": "618a4488-d9d9-43f3-a6b7-c4fb16198713",
   "metadata": {},
   "outputs": [],
   "source": []
  }
 ],
 "metadata": {
  "kernelspec": {
   "display_name": "Python 3 (ipykernel)",
   "language": "python",
   "name": "python3"
  },
  "language_info": {
   "codemirror_mode": {
    "name": "ipython",
    "version": 3
   },
   "file_extension": ".py",
   "mimetype": "text/x-python",
   "name": "python",
   "nbconvert_exporter": "python",
   "pygments_lexer": "ipython3",
   "version": "3.11.6"
  }
 },
 "nbformat": 4,
 "nbformat_minor": 5
}
