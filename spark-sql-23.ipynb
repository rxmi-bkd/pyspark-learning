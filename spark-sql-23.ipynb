{
 "cells": [
  {
   "cell_type": "code",
   "execution_count": 1,
   "id": "initial_id",
   "metadata": {
    "ExecuteTime": {
     "end_time": "2024-05-14T20:14:43.062376Z",
     "start_time": "2024-05-14T20:14:42.780541Z"
    }
   },
   "outputs": [
    {
     "name": "stdout",
     "output_type": "stream",
     "text": [
      "1775634 909698.25\n"
     ]
    }
   ],
   "source": [
    "import pyspark.sql.functions as F\n",
    "\n",
    "from pyspark.sql.types import *\n",
    "from pyspark.sql import SparkSession\n",
    "\n",
    "spark = SparkSession.builder.getOrCreate()\n",
    "\n",
    "df = spark.read.csv('spark-sql-23.csv', header=True)\n",
    "df = df.withColumn('id', F.col('id').cast(IntegerType()))\n",
    "df = df.withColumn('population', F.regexp_replace('population', ' ', ''))\n",
    "df = df.withColumn('population', F.col('population').cast(IntegerType()))\n",
    "\n",
    "max_ = df.select(F.max('population').alias('max')).collect()[0][0]\n",
    "avg_ = df.select(F.avg('population').alias('avg')).collect()[0][0]\n",
    "\n",
    "print(max_, avg_)"
   ]
  },
  {
   "cell_type": "code",
   "execution_count": null,
   "id": "ced2c93eb6c6f8b0",
   "metadata": {
    "collapsed": false,
    "jupyter": {
     "outputs_hidden": false
    }
   },
   "outputs": [],
   "source": []
  }
 ],
 "metadata": {
  "kernelspec": {
   "display_name": "Python 3 (ipykernel)",
   "language": "python",
   "name": "python3"
  },
  "language_info": {
   "codemirror_mode": {
    "name": "ipython",
    "version": 3
   },
   "file_extension": ".py",
   "mimetype": "text/x-python",
   "name": "python",
   "nbconvert_exporter": "python",
   "pygments_lexer": "ipython3",
   "version": "3.11.6"
  }
 },
 "nbformat": 4,
 "nbformat_minor": 5
}
