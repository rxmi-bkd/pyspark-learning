{
 "cells": [
  {
   "cell_type": "code",
   "execution_count": 1,
   "id": "initial_id",
   "metadata": {
    "ExecuteTime": {
     "end_time": "2024-05-14T19:39:12.026604Z",
     "start_time": "2024-05-14T19:39:11.741029Z"
    }
   },
   "outputs": [
    {
     "name": "stdout",
     "output_type": "stream",
     "text": [
      "+---+-----------------+-------+-----------------+\n",
      "| id|             city|country|       upper_city|\n",
      "+---+-----------------+-------+-----------------+\n",
      "|  0|           Warsaw| Poland|           WARSAW|\n",
      "|  1|Villeneuve-Loubet| France|VILLENEUVE-LOUBET|\n",
      "|  2|           Vranje| Serbia|           VRANJE|\n",
      "|  3|       Pittsburgh|     US|       PITTSBURGH|\n",
      "+---+-----------------+-------+-----------------+\n",
      "\n"
     ]
    }
   ],
   "source": [
    "import pyspark.sql.functions as F\n",
    "\n",
    "from pyspark.sql import SparkSession\n",
    "\n",
    "data = [\n",
    "    [0, 'Warsaw', 'Poland'],\n",
    "    [1, 'Villeneuve-Loubet', 'France'],\n",
    "    [2, 'Vranje', 'Serbia'],\n",
    "    [3, 'Pittsburgh', 'US']\n",
    "]\n",
    "\n",
    "spark = SparkSession.builder.getOrCreate()\n",
    "\n",
    "df = spark.createDataFrame(data, ['id', 'city', 'country'])\n",
    "df = df.withColumn('upper_city', F.upper('city'))\n",
    "df.show()"
   ]
  },
  {
   "cell_type": "code",
   "execution_count": null,
   "id": "444a09558911f36e",
   "metadata": {
    "collapsed": false,
    "jupyter": {
     "outputs_hidden": false
    }
   },
   "outputs": [],
   "source": []
  }
 ],
 "metadata": {
  "kernelspec": {
   "display_name": "Python 3 (ipykernel)",
   "language": "python",
   "name": "python3"
  },
  "language_info": {
   "codemirror_mode": {
    "name": "ipython",
    "version": 3
   },
   "file_extension": ".py",
   "mimetype": "text/x-python",
   "name": "python",
   "nbconvert_exporter": "python",
   "pygments_lexer": "ipython3",
   "version": "3.11.6"
  }
 },
 "nbformat": 4,
 "nbformat_minor": 5
}
