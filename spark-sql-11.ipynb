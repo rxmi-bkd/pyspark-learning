{
 "cells": [
  {
   "cell_type": "code",
   "execution_count": 1,
   "id": "initial_id",
   "metadata": {
    "ExecuteTime": {
     "end_time": "2024-05-14T20:44:24.726823Z",
     "start_time": "2024-05-14T20:44:18.860594Z"
    }
   },
   "outputs": [
    {
     "name": "stdout",
     "output_type": "stream",
     "text": [
      "+---------+---+\n",
      "|     nums|num|\n",
      "+---------+---+\n",
      "|[1, 2, 3]|  1|\n",
      "|[1, 2, 3]|  2|\n",
      "|[1, 2, 3]|  3|\n",
      "+---------+---+\n",
      "\n"
     ]
    }
   ],
   "source": [
    "import pyspark.sql.functions as F\n",
    "\n",
    "from pyspark.sql import SparkSession\n",
    "\n",
    "data = [[[1, 2, 3]]]\n",
    "\n",
    "spark = SparkSession.builder.getOrCreate()\n",
    "\n",
    "rdd = spark.createDataFrame(data, ['nums']).rdd\n",
    "rdd = rdd.flatMap(lambda row: [[row.nums, num] for num in row.nums])\n",
    "\n",
    "df = rdd.toDF(['nums', 'num'])\n",
    "df.show()"
   ]
  },
  {
   "cell_type": "code",
   "execution_count": null,
   "id": "30b04c0ec844595b",
   "metadata": {
    "collapsed": false,
    "jupyter": {
     "outputs_hidden": false
    }
   },
   "outputs": [],
   "source": []
  }
 ],
 "metadata": {
  "kernelspec": {
   "display_name": "Python 3 (ipykernel)",
   "language": "python",
   "name": "python3"
  },
  "language_info": {
   "codemirror_mode": {
    "name": "ipython",
    "version": 3
   },
   "file_extension": ".py",
   "mimetype": "text/x-python",
   "name": "python",
   "nbconvert_exporter": "python",
   "pygments_lexer": "ipython3",
   "version": "3.11.6"
  }
 },
 "nbformat": 4,
 "nbformat_minor": 5
}
