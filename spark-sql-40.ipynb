{
 "cells": [
  {
   "cell_type": "code",
   "execution_count": 137,
   "metadata": {},
   "outputs": [
    {
     "name": "stdout",
     "output_type": "stream",
     "text": [
      "+-----+--------------+\n",
      "|group|first_non_null|\n",
      "+-----+--------------+\n",
      "|    0|             2|\n",
      "|    1|             4|\n",
      "+-----+--------------+\n",
      "\n"
     ]
    }
   ],
   "source": [
    "import pyspark.sql.functions as F\n",
    "\n",
    "from pyspark.sql import SparkSession\n",
    "from pyspark.sql.window import Window\n",
    "\n",
    "spark = SparkSession.builder.getOrCreate()\n",
    "\n",
    "\n",
    "data = [\n",
    "    [None, 0],\n",
    "    [None, 1],\n",
    "    [2, 0],\n",
    "    [None, 1],\n",
    "    [4, 1],\n",
    "    \n",
    "]\n",
    "\n",
    "df = spark.createDataFrame(data, [\"id\", 'group'])\n",
    "df = df.groupBy(\"group\").agg(F.first(\"id\", True).alias(\"first_non_null\"))\n",
    "df.show()"
   ]
  }
 ],
 "metadata": {
  "kernelspec": {
   "display_name": "Python 3",
   "language": "python",
   "name": "python3"
  },
  "language_info": {
   "codemirror_mode": {
    "name": "ipython",
    "version": 3
   },
   "file_extension": ".py",
   "mimetype": "text/x-python",
   "name": "python",
   "nbconvert_exporter": "python",
   "pygments_lexer": "ipython3",
   "version": "3.8.4"
  }
 },
 "nbformat": 4,
 "nbformat_minor": 4
}
