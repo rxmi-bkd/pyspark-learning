{
 "cells": [
  {
   "cell_type": "code",
   "execution_count": 1,
   "id": "initial_id",
   "metadata": {
    "ExecuteTime": {
     "end_time": "2024-05-14T20:48:22.733033Z",
     "start_time": "2024-05-14T20:48:22.462749Z"
    }
   },
   "outputs": [
    {
     "name": "stdout",
     "output_type": "stream",
     "text": [
      "+---+----+----+------+----+\n",
      "| id|type|cost|  date|ship|\n",
      "+---+----+----+------+----+\n",
      "|  0|   A| 223|201603|PORT|\n",
      "|  0|   A|  22|201602|PORT|\n",
      "|  0|   A| 422|201601|DOCK|\n",
      "|  1|   B|3213|201602|DOCK|\n",
      "|  1|   B|3213|201601|PORT|\n",
      "|  2|   C|2321|201601|DOCK|\n",
      "+---+----+----+------+----+\n",
      "\n"
     ]
    }
   ],
   "source": [
    "\n",
    "import pyspark.sql.functions as F\n",
    "\n",
    "from pyspark.sql import SparkSession\n",
    "\n",
    "spark = SparkSession.builder.getOrCreate()\n",
    "\n",
    "data = [\n",
    "    [0, 'A', 223, 201603, 'PORT'],\n",
    "    [0, 'A', 22, 201602, 'PORT'],\n",
    "    [0, 'A', 422, 201601, 'DOCK'],\n",
    "    [1, 'B', 3213, 201602, 'DOCK'],\n",
    "    [1, 'B', 3213, 201601, 'PORT'],\n",
    "    [2, 'C', 2321, 201601, 'DOCK']\n",
    "]\n",
    "\n",
    "df = spark.createDataFrame(data, ['id', 'type', 'cost', 'date', 'ship'])\n",
    "df.show()"
   ]
  },
  {
   "cell_type": "code",
   "execution_count": 2,
   "id": "ffc3fb87c009c67a",
   "metadata": {
    "ExecuteTime": {
     "end_time": "2024-05-14T20:48:19.236501Z",
     "start_time": "2024-05-14T20:48:18.669994Z"
    },
    "collapsed": false,
    "jupyter": {
     "outputs_hidden": false
    }
   },
   "outputs": [
    {
     "name": "stdout",
     "output_type": "stream",
     "text": [
      "+---+----+------+------+------+\n",
      "| id|type|201601|201602|201603|\n",
      "+---+----+------+------+------+\n",
      "|  1|   B|3213.0|3213.0|  NULL|\n",
      "|  2|   C|2321.0|  NULL|  NULL|\n",
      "|  0|   A| 422.0|  22.0| 223.0|\n",
      "+---+----+------+------+------+\n",
      "\n"
     ]
    }
   ],
   "source": [
    "cost_avg = df.groupBy('id', 'type').pivot('date').avg('cost')\n",
    "cost_avg.show()"
   ]
  },
  {
   "cell_type": "code",
   "execution_count": 3,
   "id": "b2287fd954b4f9ea",
   "metadata": {
    "ExecuteTime": {
     "end_time": "2024-05-14T20:48:17.286611Z",
     "start_time": "2024-05-14T20:48:16.793309Z"
    },
    "collapsed": false,
    "jupyter": {
     "outputs_hidden": false
    }
   },
   "outputs": [
    {
     "name": "stdout",
     "output_type": "stream",
     "text": [
      "+---+----+------+------+------+\n",
      "| id|type|201601|201602|201603|\n",
      "+---+----+------+------+------+\n",
      "|  0|   A|[DOCK]|[PORT]|[PORT]|\n",
      "|  1|   B|[PORT]|[DOCK]|    []|\n",
      "|  2|   C|[DOCK]|    []|    []|\n",
      "+---+----+------+------+------+\n",
      "\n"
     ]
    }
   ],
   "source": [
    "machines = df.groupBy('id', 'type').pivot('date').agg(F.collect_set('ship'))\n",
    "machines.show()"
   ]
  },
  {
   "cell_type": "code",
   "execution_count": null,
   "id": "50fa5dc726852253",
   "metadata": {
    "collapsed": false,
    "jupyter": {
     "outputs_hidden": false
    }
   },
   "outputs": [],
   "source": []
  }
 ],
 "metadata": {
  "kernelspec": {
   "display_name": "Python 3 (ipykernel)",
   "language": "python",
   "name": "python3"
  },
  "language_info": {
   "codemirror_mode": {
    "name": "ipython",
    "version": 3
   },
   "file_extension": ".py",
   "mimetype": "text/x-python",
   "name": "python",
   "nbconvert_exporter": "python",
   "pygments_lexer": "ipython3",
   "version": "3.11.6"
  }
 },
 "nbformat": 4,
 "nbformat_minor": 5
}
