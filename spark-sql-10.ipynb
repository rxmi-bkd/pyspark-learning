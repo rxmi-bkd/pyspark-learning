{
 "cells": [
  {
   "cell_type": "code",
   "execution_count": 2,
   "id": "initial_id",
   "metadata": {
    "ExecuteTime": {
     "end_time": "2024-05-19T14:34:24.797091Z",
     "start_time": "2024-05-19T14:34:20.089882Z"
    }
   },
   "outputs": [
    {
     "name": "stdout",
     "output_type": "stream",
     "text": [
      "+-----+------------+\n",
      "|words|         ids|\n",
      "+-----+------------+\n",
      "|  two|   [1, 3, 4]|\n",
      "|  one|[1, 2, 3, 5]|\n",
      "|three|      [1, 4]|\n",
      "| four|         [2]|\n",
      "| five|   [2, 4, 5]|\n",
      "|seven|         [3]|\n",
      "| nine|         [3]|\n",
      "|  six|         [5]|\n",
      "+-----+------------+\n",
      "\n"
     ]
    }
   ],
   "source": [
    "import pyspark.sql.functions as F\n",
    "\n",
    "from pyspark.sql import SparkSession\n",
    "\n",
    "spark = SparkSession.builder.getOrCreate()\n",
    "\n",
    "data = [\n",
    "    (1, 'one,two,three', \"one\"),\n",
    "    (2, 'four,one,five', \"six\"),\n",
    "    (3, 'seven,nine,one,two', \"eight\"),\n",
    "    (4, 'two,three,five', \"five\"),\n",
    "    (5, 'six,five,one', \"seven\")\n",
    "]\n",
    "\n",
    "df = spark.createDataFrame(data, ['id', 'words', 'word'])\n",
    "df = df.select('id', F.split('words', ',').alias('words'), 'word')\n",
    "df = df.select('id', F.explode('words').alias('words'), 'word')\n",
    "df = df.groupBy('words').agg(F.collect_list('id').alias('ids'))\n",
    "df.show()"
   ]
  },
  {
   "cell_type": "code",
   "execution_count": null,
   "id": "e6d92f20-5342-4e91-8609-98b5b4f638a5",
   "metadata": {},
   "outputs": [],
   "source": []
  }
 ],
 "metadata": {
  "kernelspec": {
   "display_name": "Python 3 (ipykernel)",
   "language": "python",
   "name": "python3"
  },
  "language_info": {
   "codemirror_mode": {
    "name": "ipython",
    "version": 3
   },
   "file_extension": ".py",
   "mimetype": "text/x-python",
   "name": "python",
   "nbconvert_exporter": "python",
   "pygments_lexer": "ipython3",
   "version": "3.11.6"
  }
 },
 "nbformat": 4,
 "nbformat_minor": 5
}
