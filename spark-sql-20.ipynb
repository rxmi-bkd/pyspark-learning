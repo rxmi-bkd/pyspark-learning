{
 "cells": [
  {
   "cell_type": "code",
   "execution_count": 1,
   "id": "initial_id",
   "metadata": {
    "ExecuteTime": {
     "end_time": "2024-05-14T20:00:41.593275Z",
     "start_time": "2024-05-14T20:00:41.505570Z"
    }
   },
   "outputs": [
    {
     "name": "stdout",
     "output_type": "stream",
     "text": [
      "+-----------------------+-----------+\n",
      "|DateTime               |IP         |\n",
      "+-----------------------+-----------+\n",
      "|2019-07-22 00:10:15.03 |10.29.2.6  |\n",
      "|2019-07-22 00:10:15.334|10.1.198.41|\n",
      "|2019-07-22 00:10:15.4  |10.1.198.41|\n",
      "|2019-07-22 00:10:15.511|10.1.198.41|\n",
      "|2019-07-22 00:10:16.911|10.1.198.41|\n",
      "+-----------------------+-----------+\n",
      "\n"
     ]
    }
   ],
   "source": [
    "import pandas as pd\n",
    "\n",
    "from pyspark.sql.types import *\n",
    "from pyspark.sql import SparkSession\n",
    "\n",
    "\n",
    "spark = SparkSession.builder.getOrCreate()\n",
    "\n",
    "struct = StructType(\n",
    "    [\n",
    "        StructField('DateTime', TimestampType(), True),\n",
    "        StructField('IP', StringType(), True),\n",
    "    ]\n",
    ")\n",
    "\n",
    "df = spark.read.option('timestampFormat', 'yyyy-MM-dd HH:mm:ss,SSS').csv(f'spark-sql-20.csv', header=False, schema=struct, sep='|')\n",
    "df.show(truncate=False)"
   ]
  },
  {
   "cell_type": "code",
   "execution_count": 7,
   "id": "970f67897f652851",
   "metadata": {
    "ExecuteTime": {
     "end_time": "2024-05-14T20:00:42.160661Z",
     "start_time": "2024-05-14T20:00:42.158968Z"
    },
    "collapsed": false,
    "jupyter": {
     "outputs_hidden": false
    }
   },
   "outputs": [],
   "source": []
  }
 ],
 "metadata": {
  "kernelspec": {
   "display_name": "Python 3 (ipykernel)",
   "language": "python",
   "name": "python3"
  },
  "language_info": {
   "codemirror_mode": {
    "name": "ipython",
    "version": 3
   },
   "file_extension": ".py",
   "mimetype": "text/x-python",
   "name": "python",
   "nbconvert_exporter": "python",
   "pygments_lexer": "ipython3",
   "version": "3.11.6"
  }
 },
 "nbformat": 4,
 "nbformat_minor": 5
}
