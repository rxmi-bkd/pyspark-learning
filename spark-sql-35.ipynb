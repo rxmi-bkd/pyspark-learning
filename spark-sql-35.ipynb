{
 "cells": [
  {
   "cell_type": "code",
   "execution_count": 1,
   "id": "initial_id",
   "metadata": {
    "ExecuteTime": {
     "end_time": "2024-05-19T14:27:21.120696Z",
     "start_time": "2024-05-19T14:27:15.724968Z"
    },
    "collapsed": true,
    "jupyter": {
     "outputs_hidden": true
    }
   },
   "outputs": [
    {
     "name": "stdout",
     "output_type": "stream",
     "text": [
      "+----+----------+----------+-------+----+\n",
      "|time|department|items_sold|cum_sum|diff|\n",
      "+----+----------+----------+-------+----+\n",
      "|   9|        HR|        27|     27|  27|\n",
      "|   1|        IT|        15|     15|  15|\n",
      "|   5|        IT|        40|     55|  40|\n",
      "|   6|        IT|        24|     79|  24|\n",
      "|  10|        IT|        75|    154|  75|\n",
      "|   2|   Support|        81|     81|  81|\n",
      "|   3|   Support|        90|    171|  90|\n",
      "|   4|   Support|        25|    196|  25|\n",
      "|   7|   Support|        31|    227|  31|\n",
      "|   8|   Support|         1|    228|   1|\n",
      "+----+----------+----------+-------+----+\n"
     ]
    }
   ],
   "source": [
    "import pyspark.sql.functions as F\n",
    "\n",
    "from pyspark.sql import SparkSession\n",
    "from pyspark.sql.window import Window\n",
    "\n",
    "spark = SparkSession.builder.getOrCreate()\n",
    "\n",
    "data = [\n",
    "    [1, \"IT\", 15],\n",
    "    [2, \"Support\", 81],\n",
    "    [3, \"Support\", 90],\n",
    "    [4, \"Support\", 25],\n",
    "    [5, \"IT\", 40],\n",
    "    [6, \"IT\", 24],\n",
    "    [7, \"Support\", 31],\n",
    "    [8, \"Support\", 1],\n",
    "    [9, \"HR\", 27],\n",
    "    [10, \"IT\", 75]\n",
    "]\n",
    "\n",
    "windowSpec = Window.partitionBy('department').orderBy('time').rowsBetween(Window.unboundedPreceding, 0)\n",
    "\n",
    "df = spark.createDataFrame(data, ['time', 'department', 'items_sold'])\n",
    "df = df.withColumn('cum_sum', F.sum('items_sold').over(windowSpec))\n",
    "\n",
    "windowSpec = Window.partitionBy('department').orderBy('time')\n",
    "\n",
    "df = df.withColumn('diff', F.col('cum_sum') - F.lag('cum_sum', default=0).over(windowSpec))\n",
    "df.show()"
   ]
  },
  {
   "cell_type": "code",
   "execution_count": null,
   "id": "c609556b17a703a9",
   "metadata": {
    "collapsed": false,
    "jupyter": {
     "outputs_hidden": false
    }
   },
   "outputs": [],
   "source": []
  }
 ],
 "metadata": {
  "kernelspec": {
   "display_name": "Python 3 (ipykernel)",
   "language": "python",
   "name": "python3"
  },
  "language_info": {
   "codemirror_mode": {
    "name": "ipython",
    "version": 3
   },
   "file_extension": ".py",
   "mimetype": "text/x-python",
   "name": "python",
   "nbconvert_exporter": "python",
   "pygments_lexer": "ipython3",
   "version": "3.11.6"
  }
 },
 "nbformat": 4,
 "nbformat_minor": 5
}
