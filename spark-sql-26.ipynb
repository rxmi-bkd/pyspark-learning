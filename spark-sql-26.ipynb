{
 "cells": [
  {
   "cell_type": "code",
   "execution_count": 1,
   "id": "initial_id",
   "metadata": {
    "ExecuteTime": {
     "end_time": "2024-05-14T20:23:27.834151Z",
     "start_time": "2024-05-14T20:23:27.546821Z"
    }
   },
   "outputs": [
    {
     "name": "stdout",
     "output_type": "stream",
     "text": [
      "+-----+---------+---------+\n",
      "|group|max_value|min_value|\n",
      "+-----+---------+---------+\n",
      "|    0|        4|        0|\n",
      "|    1|        3|        1|\n",
      "+-----+---------+---------+\n",
      "\n"
     ]
    }
   ],
   "source": [
    "import pyspark.sql.functions as F\n",
    "from pyspark.sql import SparkSession\n",
    "\n",
    "spark = SparkSession.builder.getOrCreate()\n",
    "\n",
    "rows = [\n",
    "    [0, 0],\n",
    "    [1, 1],\n",
    "    [2, 0],\n",
    "    [3, 1],\n",
    "    [4, 0]\n",
    "]\n",
    "\n",
    "df = spark.createDataFrame(rows, ['value', 'group'])\n",
    "df = (df.select('*').groupBy('group').agg(\n",
    "    F.max('value').alias('max_value'),\n",
    "    F.min('value').alias('min_value')))\n",
    "df.show()"
   ]
  },
  {
   "cell_type": "code",
   "execution_count": null,
   "id": "c6c84db5a49dd5bb",
   "metadata": {
    "collapsed": false,
    "jupyter": {
     "outputs_hidden": false
    }
   },
   "outputs": [],
   "source": []
  }
 ],
 "metadata": {
  "kernelspec": {
   "display_name": "Python 3 (ipykernel)",
   "language": "python",
   "name": "python3"
  },
  "language_info": {
   "codemirror_mode": {
    "name": "ipython",
    "version": 3
   },
   "file_extension": ".py",
   "mimetype": "text/x-python",
   "name": "python",
   "nbconvert_exporter": "python",
   "pygments_lexer": "ipython3",
   "version": "3.11.6"
  }
 },
 "nbformat": 4,
 "nbformat_minor": 5
}
